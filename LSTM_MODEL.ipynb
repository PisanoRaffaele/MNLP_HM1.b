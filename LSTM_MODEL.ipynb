{
  "nbformat": 4,
  "nbformat_minor": 0,
  "metadata": {
    "colab": {
      "provenance": [],
      "gpuType": "T4",
      "authorship_tag": "ABX9TyOHJpfleHdYzC0ZG9fjhdOW",
      "include_colab_link": true
    },
    "kernelspec": {
      "name": "python3",
      "display_name": "Python 3"
    },
    "language_info": {
      "name": "python"
    },
    "accelerator": "GPU"
  },
  "cells": [
    {
      "cell_type": "markdown",
      "metadata": {
        "id": "view-in-github",
        "colab_type": "text"
      },
      "source": [
        "<a href=\"https://colab.research.google.com/github/PisanoRaffaele/MNLP_HM1.b/blob/main/LSTM_MODEL.ipynb\" target=\"_parent\"><img src=\"https://colab.research.google.com/assets/colab-badge.svg\" alt=\"Open In Colab\"/></a>"
      ]
    },
    {
      "cell_type": "markdown",
      "source": [
        "#START"
      ],
      "metadata": {
        "id": "E_SEo0v0pqo4"
      }
    },
    {
      "cell_type": "code",
      "source": [
        "import json\n",
        "from pathlib import Path\n",
        "from collections import Counter\n",
        "\n",
        "import torch\n",
        "from torch import nn\n",
        "from torch.nn import functional as F\n",
        "from torch.nn.utils.rnn import pad_sequence\n",
        "from torch.utils.data import Dataset, DataLoader\n",
        "from torchtext.data.utils import get_tokenizer\n",
        "from torchtext.vocab import Vocab, vocab, Vectors\n",
        "from torch.nn.utils.rnn import pack_padded_sequence\n",
        "import torch.optim.lr_scheduler as lr_scheduler\n",
        "import torchtext\n",
        "from torchtext import data\n",
        "\n",
        "import matplotlib.pyplot as plt\n",
        "\n",
        "import random\n",
        "\n",
        "import os\n",
        "\n",
        "!pip install fasttext\n",
        "import fasttext\n",
        "import fasttext.util"
      ],
      "metadata": {
        "id": "f74XiLMIqBQf",
        "colab": {
          "base_uri": "https://localhost:8080/"
        },
        "outputId": "143f5fc3-4cb3-4722-956c-7785bc8c7ec2"
      },
      "execution_count": null,
      "outputs": [
        {
          "output_type": "stream",
          "name": "stdout",
          "text": [
            "Collecting fasttext\n",
            "  Downloading fasttext-0.9.2.tar.gz (68 kB)\n",
            "\u001b[?25l     \u001b[90m━━━━━━━━━━━━━━━━━━━━━━━━━━━━━━━━━━━━━━━━\u001b[0m \u001b[32m0.0/68.8 kB\u001b[0m \u001b[31m?\u001b[0m eta \u001b[36m-:--:--\u001b[0m\r\u001b[2K     \u001b[91m━━━━━━━━━━━━━━━━━━━━━━━━━━━━━━━━━━━\u001b[0m\u001b[91m╸\u001b[0m\u001b[90m━━━━\u001b[0m \u001b[32m61.4/68.8 kB\u001b[0m \u001b[31m1.8 MB/s\u001b[0m eta \u001b[36m0:00:01\u001b[0m\r\u001b[2K     \u001b[90m━━━━━━━━━━━━━━━━━━━━━━━━━━━━━━━━━━━━━━━━\u001b[0m \u001b[32m68.8/68.8 kB\u001b[0m \u001b[31m1.4 MB/s\u001b[0m eta \u001b[36m0:00:00\u001b[0m\n",
            "\u001b[?25h  Preparing metadata (setup.py) ... \u001b[?25l\u001b[?25hdone\n",
            "Collecting pybind11>=2.2 (from fasttext)\n",
            "  Using cached pybind11-2.12.0-py3-none-any.whl (234 kB)\n",
            "Requirement already satisfied: setuptools>=0.7.0 in /usr/local/lib/python3.10/dist-packages (from fasttext) (67.7.2)\n",
            "Requirement already satisfied: numpy in /usr/local/lib/python3.10/dist-packages (from fasttext) (1.25.2)\n",
            "Building wheels for collected packages: fasttext\n",
            "  Building wheel for fasttext (setup.py) ... \u001b[?25l\u001b[?25hdone\n",
            "  Created wheel for fasttext: filename=fasttext-0.9.2-cp310-cp310-linux_x86_64.whl size=4227144 sha256=6de68d301fddc9967c845add3cb81b5f5d320fd4505303a1b556aaae22fae78e\n",
            "  Stored in directory: /root/.cache/pip/wheels/a5/13/75/f811c84a8ab36eedbaef977a6a58a98990e8e0f1967f98f394\n",
            "Successfully built fasttext\n",
            "Installing collected packages: pybind11, fasttext\n",
            "Successfully installed fasttext-0.9.2 pybind11-2.12.0\n"
          ]
        }
      ]
    },
    {
      "cell_type": "markdown",
      "source": [
        "## Data preparation"
      ],
      "metadata": {
        "id": "ufoz8paSoA0a"
      }
    },
    {
      "cell_type": "code",
      "source": [
        "!git clone https://github.com/PisanoRaffaele/MNLP_HM1.b"
      ],
      "metadata": {
        "colab": {
          "base_uri": "https://localhost:8080/"
        },
        "id": "t8FVMt2bpqGX",
        "outputId": "931956b8-f540-4097-fed2-8ed7a7143a57"
      },
      "execution_count": null,
      "outputs": [
        {
          "output_type": "stream",
          "name": "stdout",
          "text": [
            "Cloning into 'MNLP_HM1.b'...\n",
            "remote: Enumerating objects: 8, done.\u001b[K\n",
            "remote: Counting objects: 100% (8/8), done.\u001b[K\n",
            "remote: Compressing objects: 100% (6/6), done.\u001b[K\n",
            "remote: Total 8 (delta 0), reused 0 (delta 0), pack-reused 0\u001b[K\n",
            "Receiving objects: 100% (8/8), 571.23 KiB | 2.36 MiB/s, done.\n"
          ]
        }
      ]
    },
    {
      "cell_type": "code",
      "source": [
        "test_news_path = Path(\"MNLP_HM1.b/test-news-taskA.jsonl\")\n",
        "test_tweets_path = Path(\"MNLP_HM1.b/test-tweets-taskA.jsonl\")\n",
        "development_path = Path(\"MNLP_HM1.b/train-taskA.jsonl\")\n",
        "validation_path = Path(\"MNLP_HM1.b/validation.jsonl\")\n",
        "train_path = Path(\"MNLP_HM1.b/train.jsonl\")\n",
        "\n",
        "model_path = \"/content/drive/MyDrive/MNLP_HM1.b/cc.it.300.bin\""
      ],
      "metadata": {
        "id": "SOBMe-dZpuJF"
      },
      "execution_count": null,
      "outputs": []
    },
    {
      "cell_type": "markdown",
      "source": [
        "### Creation of validation set"
      ],
      "metadata": {
        "id": "2beQnv_Gn9HD"
      }
    },
    {
      "cell_type": "code",
      "source": [
        "seed = 1\n",
        "random.seed(seed)\n",
        "\n",
        "with open(development_path, \"r\", encoding=\"utf-8\") as file:\n",
        "    dev_data = [json.loads(line.strip()) for line in file]\n",
        "\n",
        "shuffled_data = random.sample(dev_data, len(dev_data))\n",
        "len_val = int(len(shuffled_data) * 0.2)\n",
        "\n",
        "with open(validation_path, \"w\", encoding=\"utf-8\") as file:\n",
        "    for item in shuffled_data[:len_val]:\n",
        "        file.write(json.dumps(item) + \"\\n\")\n",
        "\n",
        "with open(train_path, \"w\", encoding=\"utf-8\") as file:\n",
        "    for item in shuffled_data[len_val:]:\n",
        "        file.write(json.dumps(item) + \"\\n\")"
      ],
      "metadata": {
        "id": "5JScdYaO01YQ"
      },
      "execution_count": null,
      "outputs": []
    },
    {
      "cell_type": "code",
      "source": [
        "def visualize_hate_text(dataset: str, title: str):\n",
        "    counter = Counter()\n",
        "\n",
        "    with open(dataset) as f:\n",
        "        for line in f:\n",
        "            sample = json.loads(line.strip())\n",
        "            if (sample['label'] == 0):\n",
        "              counter[0] += 1\n",
        "            else:\n",
        "              counter[1] += 1\n",
        "\n",
        "    l = sorted(counter)\n",
        "    values = [counter[i] for i in l]\n",
        "\n",
        "    plt.bar(l, values)\n",
        "    plt.title(title)\n",
        "    plt.show()"
      ],
      "metadata": {
        "id": "lewgbSPSqH99"
      },
      "execution_count": null,
      "outputs": []
    },
    {
      "cell_type": "code",
      "source": [
        "visualize_hate_text(train_path, 'training')"
      ],
      "metadata": {
        "id": "MhzGOH0FnNgZ",
        "colab": {
          "base_uri": "https://localhost:8080/",
          "height": 452
        },
        "outputId": "b30f67fc-6fdd-455b-e335-2ed070ae402f"
      },
      "execution_count": null,
      "outputs": [
        {
          "output_type": "display_data",
          "data": {
            "text/plain": [
              "<Figure size 640x480 with 1 Axes>"
            ],
            "image/png": "[encoded data removed]"
          },
          "metadata": {}
        }
      ]
    },
    {
      "cell_type": "code",
      "source": [
        "visualize_hate_text(validation_path, 'validation')"
      ],
      "metadata": {
        "id": "BcSfKsFvndPJ"
      },
      "execution_count": null,
      "outputs": []
    },
    {
      "cell_type": "code",
      "source": [
        "visualize_hate_text(test_news_path, 'news')"
      ],
      "metadata": {
        "id": "UuTrZKo1nhHG"
      },
      "execution_count": null,
      "outputs": []
    },
    {
      "cell_type": "code",
      "source": [
        "visualize_hate_text(test_tweets_path, 'tweets')"
      ],
      "metadata": {
        "id": "LoYI8NkRpF_I"
      },
      "execution_count": null,
      "outputs": []
    },
    {
      "cell_type": "code",
      "source": [
        "#to save results on drive\n",
        "from google.colab import drive\n",
        "drive.mount('/content/drive')\n",
        "model = fasttext.load_model(model_path)"
      ],
      "metadata": {
        "colab": {
          "base_uri": "https://localhost:8080/"
        },
        "id": "6WWzRRZ4kWWB",
        "outputId": "f96d4a8b-fcb6-482c-84c5-4104e01ed281"
      },
      "execution_count": null,
      "outputs": [
        {
          "output_type": "stream",
          "name": "stdout",
          "text": [
            "Mounted at /content/drive\n"
          ]
        },
        {
          "output_type": "stream",
          "name": "stderr",
          "text": [
            "Warning : `load_model` does not return WordVectorModel or SupervisedModel any more, but a `FastText` object which is very similar.\n"
          ]
        }
      ]
    },
    {
      "cell_type": "code",
      "source": [
        "embedded_words_list = model.get_words()"
      ],
      "metadata": {
        "id": "vLXNwW__kdIo"
      },
      "execution_count": null,
      "outputs": []
    },
    {
      "cell_type": "code",
      "source": [
        "embedded_words = {}\n",
        "for i, elem in enumerate(embedded_words_list):\n",
        "    embedded_words[elem] = i"
      ],
      "metadata": {
        "id": "GvGcecy0flw1"
      },
      "execution_count": null,
      "outputs": []
    },
    {
      "cell_type": "markdown",
      "source": [
        "##Dataset"
      ],
      "metadata": {
        "id": "fAd1fBJGPIuE"
      }
    },
    {
      "cell_type": "markdown",
      "source": [
        "I've noticed that, after the tokenization with the spacy italian tokenizer, a lot of the strings that haven't a corresponding word embedding in the fasttext model are strings not well tokenized:\n",
        "- they starts or end with ' ( '; ' ) ' char;\n",
        "- they have symbols between two or more words like:\n",
        "  - \"   \n",
        "  - _\n",
        "  - !\n",
        "  - -\n",
        "  - ?\n",
        "  - ’\n",
        "  - '\n",
        "\n",
        "- There were a lot of words separated by a dot like:\n",
        " - cosa.che\n",
        " - .intolleranti\n",
        " - zingari.non\n",
        "\n",
        "\n",
        "And there were a some 'common' words not finded in the embeddings that\n",
        "\n",
        "I've have decided to modify the tokenizer s.t after the first tokenization i deal with the problems above with the custom tokenizer."
      ],
      "metadata": {
        "id": "qdwOzMBAQHiN"
      }
    },
    {
      "cell_type": "code",
      "source": [
        "#all this stuff is applied after the tokenization by the spacy tokenizer and it is a lot based on the output of the words do not tokenized.\n",
        "\n",
        "def splitchar(token, char):\n",
        "    ret = []\n",
        "    splitted = token.split(char)\n",
        "    i = 0\n",
        "    for sub_token in splitted:\n",
        "        if sub_token:\n",
        "            ret.extend(checkToken(sub_token))\n",
        "        if i != len(splitted) - 1:\n",
        "            ret.append(char)\n",
        "        i += 1\n",
        "    return ret\n",
        "\n",
        "def checkdots(token):\n",
        "    pos_first = token.find('.')\n",
        "    if token == '.':\n",
        "        return [token]\n",
        "    if len(token) > pos_first + 1 != None and token[pos_first + 1] == '.':\n",
        "        return [token]\n",
        "    if pos_first > 0 and len(token) > pos_first + 1:\n",
        "        if token[pos_first - 1].isdigit() and token[pos_first + 1].isdigit():\n",
        "            return [token]\n",
        "    if len(token) > pos_first + 2 and token[pos_first + 2] == '.': #case like S.O.S. and all acronyms -> do not want to split them\n",
        "        return [token]\n",
        "\n",
        "    ret = []\n",
        "    splitted = token.split('.', 1)\n",
        "    i = 0\n",
        "    for sub_token in splitted:\n",
        "        if sub_token:\n",
        "            ret.extend(checkToken(sub_token))\n",
        "        if i != len(splitted) - 1:\n",
        "            ret.append('.')\n",
        "        i += 1\n",
        "    return ret\n",
        "\n",
        "def checkToken(token):\n",
        "  new_tokens = []\n",
        "  if '\"' in token:\n",
        "      new_tokens.extend(splitchar(token, '\"'))\n",
        "  elif ')' in token:\n",
        "      new_tokens.extend(splitchar(token, ')'))\n",
        "  elif '(' in token:\n",
        "      new_tokens.extend(splitchar(token, '('))\n",
        "  elif '-' in token:\n",
        "      new_tokens.extend(splitchar(token, '-'))\n",
        "  elif '_' in token:\n",
        "      new_tokens.extend(splitchar(token, '_'))\n",
        "  elif '!' in token:\n",
        "      new_tokens.extend(splitchar(token, '!'))\n",
        "  elif '?' in token:\n",
        "      new_tokens.extend(splitchar(token, '?'))\n",
        "  elif \"'\" in token:\n",
        "      new_tokens.extend(splitchar(token, \"'\"))\n",
        "  elif '’' in token:\n",
        "      new_tokens.extend(splitchar(token, '’'))\n",
        "  elif '”' in token:\n",
        "      new_tokens.extend(splitchar(token, '”'))\n",
        "  elif '\\\\' in token:\n",
        "      new_tokens.extend(splitchar(token, '\\\\'))\n",
        "  elif '/' in token:\n",
        "      new_tokens.extend(splitchar(token, '/'))\n",
        "  elif '•' in token:\n",
        "      new_tokens.extend(splitchar(token, '•'))\n",
        "  elif ',' in token:\n",
        "      new_tokens.extend(splitchar(token, ','))\n",
        "  elif '#' in token:\n",
        "      new_tokens.extend(splitchar(token, '#'))\n",
        "  elif '.' in token:\n",
        "      new_tokens.extend(checkdots(token))\n",
        "  else:\n",
        "      new_tokens.append(token)\n",
        "  return new_tokens\n",
        "\n",
        "\n",
        "def custom_tokenizer(text, tokenizer):\n",
        "    tokens = tokenizer(text)\n",
        "    final_tokens = []\n",
        "\n",
        "    for token in tokens:\n",
        "        if token in embedded_words or token.lower() in embedded_words:\n",
        "            final_tokens.append(token)\n",
        "        else:\n",
        "          final_tokens.extend(checkToken(token))\n",
        "    return final_tokens"
      ],
      "metadata": {
        "id": "ZoPVjN-yMlkP"
      },
      "execution_count": null,
      "outputs": []
    },
    {
      "cell_type": "code",
      "source": [
        "#tests\n",
        "\n",
        "!python -m spacy download it_core_news_sm\n",
        "# tokenizer = get_tokenizer(\"spacy\", language='it')\n",
        "# print(custom_tokenizer(\"(few)))wef)\\\")) )ervre) ))\", tokenizer))\n",
        "# print(custom_tokenizer(\"?!No\", tokenizer))"
      ],
      "metadata": {
        "id": "x2PmAjO7spWz",
        "colab": {
          "base_uri": "https://localhost:8080/"
        },
        "outputId": "d8c2cb11-9bcd-4fad-b005-1ca0a744f49f"
      },
      "execution_count": null,
      "outputs": [
        {
          "output_type": "stream",
          "name": "stdout",
          "text": [
            "Collecting it-core-news-sm==3.7.0\n",
            "  Downloading https://github.com/explosion/spacy-models/releases/download/it_core_news_sm-3.7.0/it_core_news_sm-3.7.0-py3-none-any.whl (13.0 MB)\n",
            "\u001b[2K     \u001b[90m━━━━━━━━━━━━━━━━━━━━━━━━━━━━━━━━━━━━━━━━\u001b[0m \u001b[32m13.0/13.0 MB\u001b[0m \u001b[31m22.6 MB/s\u001b[0m eta \u001b[36m0:00:00\u001b[0m\n",
            "\u001b[?25hRequirement already satisfied: spacy<3.8.0,>=3.7.0 in /usr/local/lib/python3.10/dist-packages (from it-core-news-sm==3.7.0) (3.7.4)\n",
            "Requirement already satisfied: spacy-legacy<3.1.0,>=3.0.11 in /usr/local/lib/python3.10/dist-packages (from spacy<3.8.0,>=3.7.0->it-core-news-sm==3.7.0) (3.0.12)\n",
            "Requirement already satisfied: spacy-loggers<2.0.0,>=1.0.0 in /usr/local/lib/python3.10/dist-packages (from spacy<3.8.0,>=3.7.0->it-core-news-sm==3.7.0) (1.0.5)\n",
            "Requirement already satisfied: murmurhash<1.1.0,>=0.28.0 in /usr/local/lib/python3.10/dist-packages (from spacy<3.8.0,>=3.7.0->it-core-news-sm==3.7.0) (1.0.10)\n",
            "Requirement already satisfied: cymem<2.1.0,>=2.0.2 in /usr/local/lib/python3.10/dist-packages (from spacy<3.8.0,>=3.7.0->it-core-news-sm==3.7.0) (2.0.8)\n",
            "Requirement already satisfied: preshed<3.1.0,>=3.0.2 in /usr/local/lib/python3.10/dist-packages (from spacy<3.8.0,>=3.7.0->it-core-news-sm==3.7.0) (3.0.9)\n",
            "Requirement already satisfied: thinc<8.3.0,>=8.2.2 in /usr/local/lib/python3.10/dist-packages (from spacy<3.8.0,>=3.7.0->it-core-news-sm==3.7.0) (8.2.3)\n",
            "Requirement already satisfied: wasabi<1.2.0,>=0.9.1 in /usr/local/lib/python3.10/dist-packages (from spacy<3.8.0,>=3.7.0->it-core-news-sm==3.7.0) (1.1.2)\n",
            "Requirement already satisfied: srsly<3.0.0,>=2.4.3 in /usr/local/lib/python3.10/dist-packages (from spacy<3.8.0,>=3.7.0->it-core-news-sm==3.7.0) (2.4.8)\n",
            "Requirement already satisfied: catalogue<2.1.0,>=2.0.6 in /usr/local/lib/python3.10/dist-packages (from spacy<3.8.0,>=3.7.0->it-core-news-sm==3.7.0) (2.0.10)\n",
            "Requirement already satisfied: weasel<0.4.0,>=0.1.0 in /usr/local/lib/python3.10/dist-packages (from spacy<3.8.0,>=3.7.0->it-core-news-sm==3.7.0) (0.3.4)\n",
            "Requirement already satisfied: typer<0.10.0,>=0.3.0 in /usr/local/lib/python3.10/dist-packages (from spacy<3.8.0,>=3.7.0->it-core-news-sm==3.7.0) (0.9.4)\n",
            "Requirement already satisfied: smart-open<7.0.0,>=5.2.1 in /usr/local/lib/python3.10/dist-packages (from spacy<3.8.0,>=3.7.0->it-core-news-sm==3.7.0) (6.4.0)\n",
            "Requirement already satisfied: tqdm<5.0.0,>=4.38.0 in /usr/local/lib/python3.10/dist-packages (from spacy<3.8.0,>=3.7.0->it-core-news-sm==3.7.0) (4.66.2)\n",
            "Requirement already satisfied: requests<3.0.0,>=2.13.0 in /usr/local/lib/python3.10/dist-packages (from spacy<3.8.0,>=3.7.0->it-core-news-sm==3.7.0) (2.31.0)\n",
            "Requirement already satisfied: pydantic!=1.8,!=1.8.1,<3.0.0,>=1.7.4 in /usr/local/lib/python3.10/dist-packages (from spacy<3.8.0,>=3.7.0->it-core-news-sm==3.7.0) (2.7.0)\n",
            "Requirement already satisfied: jinja2 in /usr/local/lib/python3.10/dist-packages (from spacy<3.8.0,>=3.7.0->it-core-news-sm==3.7.0) (3.1.3)\n",
            "Requirement already satisfied: setuptools in /usr/local/lib/python3.10/dist-packages (from spacy<3.8.0,>=3.7.0->it-core-news-sm==3.7.0) (67.7.2)\n",
            "Requirement already satisfied: packaging>=20.0 in /usr/local/lib/python3.10/dist-packages (from spacy<3.8.0,>=3.7.0->it-core-news-sm==3.7.0) (24.0)\n",
            "Requirement already satisfied: langcodes<4.0.0,>=3.2.0 in /usr/local/lib/python3.10/dist-packages (from spacy<3.8.0,>=3.7.0->it-core-news-sm==3.7.0) (3.3.0)\n",
            "Requirement already satisfied: numpy>=1.19.0 in /usr/local/lib/python3.10/dist-packages (from spacy<3.8.0,>=3.7.0->it-core-news-sm==3.7.0) (1.25.2)\n",
            "Requirement already satisfied: annotated-types>=0.4.0 in /usr/local/lib/python3.10/dist-packages (from pydantic!=1.8,!=1.8.1,<3.0.0,>=1.7.4->spacy<3.8.0,>=3.7.0->it-core-news-sm==3.7.0) (0.6.0)\n",
            "Requirement already satisfied: pydantic-core==2.18.1 in /usr/local/lib/python3.10/dist-packages (from pydantic!=1.8,!=1.8.1,<3.0.0,>=1.7.4->spacy<3.8.0,>=3.7.0->it-core-news-sm==3.7.0) (2.18.1)\n",
            "Requirement already satisfied: typing-extensions>=4.6.1 in /usr/local/lib/python3.10/dist-packages (from pydantic!=1.8,!=1.8.1,<3.0.0,>=1.7.4->spacy<3.8.0,>=3.7.0->it-core-news-sm==3.7.0) (4.11.0)\n",
            "Requirement already satisfied: charset-normalizer<4,>=2 in /usr/local/lib/python3.10/dist-packages (from requests<3.0.0,>=2.13.0->spacy<3.8.0,>=3.7.0->it-core-news-sm==3.7.0) (3.3.2)\n",
            "Requirement already satisfied: idna<4,>=2.5 in /usr/local/lib/python3.10/dist-packages (from requests<3.0.0,>=2.13.0->spacy<3.8.0,>=3.7.0->it-core-news-sm==3.7.0) (3.7)\n",
            "Requirement already satisfied: urllib3<3,>=1.21.1 in /usr/local/lib/python3.10/dist-packages (from requests<3.0.0,>=2.13.0->spacy<3.8.0,>=3.7.0->it-core-news-sm==3.7.0) (2.0.7)\n",
            "Requirement already satisfied: certifi>=2017.4.17 in /usr/local/lib/python3.10/dist-packages (from requests<3.0.0,>=2.13.0->spacy<3.8.0,>=3.7.0->it-core-news-sm==3.7.0) (2024.2.2)\n",
            "Requirement already satisfied: blis<0.8.0,>=0.7.8 in /usr/local/lib/python3.10/dist-packages (from thinc<8.3.0,>=8.2.2->spacy<3.8.0,>=3.7.0->it-core-news-sm==3.7.0) (0.7.11)\n",
            "Requirement already satisfied: confection<1.0.0,>=0.0.1 in /usr/local/lib/python3.10/dist-packages (from thinc<8.3.0,>=8.2.2->spacy<3.8.0,>=3.7.0->it-core-news-sm==3.7.0) (0.1.4)\n",
            "Requirement already satisfied: click<9.0.0,>=7.1.1 in /usr/local/lib/python3.10/dist-packages (from typer<0.10.0,>=0.3.0->spacy<3.8.0,>=3.7.0->it-core-news-sm==3.7.0) (8.1.7)\n",
            "Requirement already satisfied: cloudpathlib<0.17.0,>=0.7.0 in /usr/local/lib/python3.10/dist-packages (from weasel<0.4.0,>=0.1.0->spacy<3.8.0,>=3.7.0->it-core-news-sm==3.7.0) (0.16.0)\n",
            "Requirement already satisfied: MarkupSafe>=2.0 in /usr/local/lib/python3.10/dist-packages (from jinja2->spacy<3.8.0,>=3.7.0->it-core-news-sm==3.7.0) (2.1.5)\n",
            "Installing collected packages: it-core-news-sm\n",
            "Successfully installed it-core-news-sm-3.7.0\n",
            "\u001b[38;5;2m✔ Download and installation successful\u001b[0m\n",
            "You can now load the package via spacy.load('it_core_news_sm')\n",
            "\u001b[38;5;3m⚠ Restart to reload dependencies\u001b[0m\n",
            "If you are in a Jupyter or Colab notebook, you may need to restart Python in\n",
            "order to load all the package's dependencies. You can do this by selecting the\n",
            "'Restart kernel' or 'Restart runtime' option.\n"
          ]
        }
      ]
    },
    {
      "cell_type": "code",
      "source": [
        "class SST2Dataset(Dataset):\n",
        "    def __init__(\n",
        "        self,\n",
        "        input_file: Path,\n",
        "        max_length: int = 128,\n",
        "        device: str = \"cuda\"\n",
        "    ):\n",
        "        tokenizer = get_tokenizer(\"spacy\", language='it_core_news_sm')\n",
        "\n",
        "        self.samples = []\n",
        "        with open(input_file, \"r\") as f:\n",
        "            for line in f:\n",
        "                sample = json.loads(line.strip())\n",
        "                sample[\"tokens\"] = custom_tokenizer(sample[\"text\"], tokenizer)\n",
        "                self.samples.append(sample)\n",
        "\n",
        "        self.indexed_data: list[dict] | None = None\n",
        "\n",
        "        # Keep track of the maximum length to allow for a batch\n",
        "        self.max_length = max_length\n",
        "\n",
        "        # Save device\n",
        "        self.device = torch.device(device)\n",
        "\n",
        "        # The variable padding_id is used to keep track of the numeric ID used for the padding token within the vocabulary\n",
        "        self.padding_id: int | None = None\n",
        "\n",
        "    #returns the dict cooresponding to the sentence in position idx\n",
        "    def get_raw_element(self, idx: int) -> dict:\n",
        "        return self.samples[idx]\n",
        "\n",
        "    def __len__(self) -> int:\n",
        "        return len(self.samples)\n",
        "\n",
        "    def __getitem__(self, idx: int) -> dict:\n",
        "        if self.indexed_data is None:\n",
        "            raise RuntimeError(\n",
        "                \"Trying to retrieve samples but dataset has not been indexed yet!\"\n",
        "                + \" Be sure to call `.index()` on this object.\"\n",
        "                + \" If you want to retrieve raw elements, call `.get_raw_elements(idx)\"\n",
        "            )\n",
        "        return self.indexed_data[idx]\n",
        "\n",
        "    def get_vocabulary(\n",
        "        self,\n",
        "        pad_token: str = \"<pad>\",\n",
        "        unk_token: str = \"<unk>\",\n",
        "        extra_tokens: list[str] = []\n",
        "    ) -> Vocab:\n",
        "        # most_common() returns a list of (token, count) pairs, so we convert them back into dictionary\n",
        "        # counts how many times a token appears in the dataset\n",
        "        vocab_counter = dict(Counter(token for sample in self.samples for token in sample[\"tokens\"]).most_common())\n",
        "\n",
        "        # We build the vocabulary\n",
        "        vocabulary = vocab(vocab_counter, min_freq=1, specials=[pad_token, unk_token, *extra_tokens])\n",
        "\n",
        "        # the default index is the ID used when you have a token not present in the vocab.\n",
        "        vocabulary.set_default_index(vocabulary([unk_token])[0])\n",
        "\n",
        "        return vocabulary\n",
        "\n",
        "    def set_padding_id(self, value: int) -> None:\n",
        "        self.padding_id = value\n",
        "\n",
        "    def index(self, vocab: dict[str, torch.Tensor]) -> None:\n",
        "        if self.indexed_data is not None:\n",
        "            print(\"Dataset has already been indexed. Keeping old index...\")\n",
        "        else:\n",
        "            indexed_data = []\n",
        "            for sample in self.samples:\n",
        "                # append the dictionary containing ids of the input tokens and label\n",
        "                indexed_data.append({\"input_ids\": vocabulary(sample[\"tokens\"]), \"label\": sample[\"label\"]})\n",
        "            self.indexed_data = indexed_data\n",
        "\n",
        "    def _collate_fn(self, raw_batch: list[dict]) -> tuple[torch.Tensor, torch.Tensor, torch.Tensor]:\n",
        "\n",
        "        if self.padding_id is None:\n",
        "            raise RuntimeError(\"Padding value not set! Set it through .set_padding_id method.\")\n",
        "\n",
        "        # We need these sequence lengths to construct a `torch.nn.utils.rnn.PackedSequence` in the model\n",
        "        sequence_lengths = torch.tensor([len(sample[\"input_ids\"]) for sample in raw_batch], dtype=torch.long)\n",
        "        padded_sequence = pad_sequence(\n",
        "            (\n",
        "                torch.tensor(sample[\"input_ids\"], dtype=torch.long, device=self.device)\n",
        "                for sample in raw_batch\n",
        "            ),\n",
        "            batch_first=True,\n",
        "            padding_value=self.padding_id\n",
        "        )\n",
        "        labels = torch.tensor([sample[\"label\"] for sample in raw_batch], device=self.device, dtype=torch.long)\n",
        "        return sequence_lengths, padded_sequence, labels"
      ],
      "metadata": {
        "id": "jUsUeZ-YAvr8"
      },
      "execution_count": null,
      "outputs": []
    },
    {
      "cell_type": "markdown",
      "source": [
        "##Model"
      ],
      "metadata": {
        "id": "4vNAt9ZxPKwL"
      }
    },
    {
      "cell_type": "code",
      "source": [
        "class BiLSTMModel(torch.nn.Module):\n",
        "\n",
        "    def __init__(\n",
        "        self,\n",
        "        vocabulary_length: int,\n",
        "        hidden_dim: int,\n",
        "        bilstm_layers: int,\n",
        "        bilstm_dropout: float,\n",
        "        num_classes: int,\n",
        "        padding_id: int,\n",
        "        device: str = \"cuda\",\n",
        "        pre_embeddings: torch.Tensor = None,\n",
        "    ) -> None:\n",
        "        super().__init__()\n",
        "\n",
        "        self.device = torch.device(device)\n",
        "\n",
        "        self.embedding = nn.Embedding(\n",
        "            num_embeddings=vocabulary_length,\n",
        "            embedding_dim=hidden_dim,\n",
        "            padding_idx=padding_id, # avoid updating the gradient of padding entries\n",
        "            device=self.device\n",
        "        )\n",
        "        if pre_embeddings is not None:\n",
        "            print(\"initializing embeddings from pretrained\")\n",
        "            self.embedding.weight.data.copy_(pre_embeddings)\n",
        "\n",
        "        self.bilstm = nn.LSTM(\n",
        "            input_size=hidden_dim,\n",
        "            hidden_size=hidden_dim,\n",
        "            num_layers=bilstm_layers,\n",
        "            batch_first=True,\n",
        "            dropout=bilstm_dropout,\n",
        "            bidirectional=True,\n",
        "            device=self.device\n",
        "        )\n",
        "\n",
        "        self.projection = nn.Linear(\n",
        "            in_features=hidden_dim * 2,\n",
        "            out_features=num_classes,\n",
        "            device=device\n",
        "        )\n",
        "\n",
        "    def forward(self, batch: tuple[torch.Tensor, torch.Tensor]) -> torch.Tensor:\n",
        "        # Get the different parts of the batch\n",
        "        sequence_lengths, input_ids = batch\n",
        "\n",
        "        # First we embed the input tokens\n",
        "        embeds = self.embedding(input_ids) # [B, S, H]\n",
        "        # where B is the batch size, S is the sequence length and H is the hidden dimension\n",
        "\n",
        "        # Pack the sequence to avoid gradient descent on padding tokens.\n",
        "        # An alternative to packing sequences is using masking.\n",
        "        packed = pack_padded_sequence(embeds, sequence_lengths, batch_first=True, enforce_sorted=False)\n",
        "\n",
        "        # Then we pass it to the BiLSTM\n",
        "        # The first output of the BiLSTM tuple, packed_output, is of size B x S x 2H,\n",
        "        # where B is the batch size, S is the sequence length and H is the hidden dimension\n",
        "        # hidden_state is of size [2 * num_layers, B, H], where the 2 is because we are using BiLSTMs instead of LSTMs.\n",
        "        # cell_state has size [2 * num_layers, B, C] where C is the cell dimension of the internal LSTMCell.\n",
        "        packed_output, (hidden_state, cell_state) = self.bilstm(packed)\n",
        "\n",
        "        # We take the last two hidden representations of the BiLSTM (the second-to-last layer's output is forward; last\n",
        "        # layer's is backward) by concatenating forward and backward over dimension 1.\n",
        "        # Both tensors have shapes of [B, H], so concatenating them along the second dimension (dim 1) results in a new\n",
        "        # tensor of shape [B, 2 * H]\n",
        "        hidden = torch.cat((hidden_state[-2,:,:], hidden_state[-1,:,:]), dim = 1)\n",
        "\n",
        "        # Finally we project to the two final classes and return the logits of each class\n",
        "        # logits = values assigned to each class\n",
        "        logits = self.projection(hidden) # [B, 2]\n",
        "        return logits"
      ],
      "metadata": {
        "id": "yc1HWmWPPMfj"
      },
      "execution_count": null,
      "outputs": []
    },
    {
      "cell_type": "markdown",
      "source": [
        "## Trainer\n"
      ],
      "metadata": {
        "id": "FVjVl-sZWGl_"
      }
    },
    {
      "cell_type": "code",
      "source": [
        "class Trainer():\n",
        "    \"\"\"Utility class to train and evaluate a model.\"\"\"\n",
        "\n",
        "    def __init__(\n",
        "        self,\n",
        "        model: nn.Module,\n",
        "        optimizer: torch.optim.Optimizer,\n",
        "        log_steps: int = 1_000,\n",
        "        log_level: int = 2\n",
        "    ):\n",
        "        self.model = model\n",
        "        self.optimizer = optimizer\n",
        "        self.loss_function = nn.CrossEntropyLoss() # this is the default loss used nearly everywhere in NLP\n",
        "\n",
        "\n",
        "        self.scheduler = None\n",
        "\n",
        "        self.log_steps = log_steps\n",
        "        self.log_level = log_level\n",
        "\n",
        "    def set_scheduler(self, lr_decay_factor: float):\n",
        "        self.scheduler = lr_scheduler.StepLR(self.optimizer, step_size=1, gamma=lr_decay_factor)\n",
        "\n",
        "    def train(\n",
        "        self,\n",
        "        train_dataloader: DataLoader,\n",
        "        valid_dataloader: DataLoader,\n",
        "        epochs: int = 1,\n",
        "        patience: int = 2,\n",
        "        lr_decay_factor: float = 0.001\n",
        "    ) -> dict[str, list[float]]:\n",
        "        \"\"\"\n",
        "        Args:\n",
        "            train_dataloader: a DataLoader instance containing the training instances.\n",
        "            valid_dataloader: a DataLoader instance used to evaluate learning progress.\n",
        "            epochs: the number of times to iterate over train_dataset.\n",
        "\n",
        "        Returns:\n",
        "            avg_train_loss: the average training loss on train_dataset over epochs.\n",
        "        \"\"\"\n",
        "        assert epochs >= 1 and isinstance(epochs, int)\n",
        "        if self.log_level > 0:\n",
        "            print('Training ...')\n",
        "        train_loss = 0.0\n",
        "\n",
        "        losses = {\n",
        "            \"train_losses\": [],\n",
        "            \"valid_losses\": [],\n",
        "            \"valid_acc\": [],\n",
        "        }\n",
        "\n",
        "        consecutive_increases = 0\n",
        "        prev_valid_loss = float('inf')\n",
        "\n",
        "        if self.scheduler is None:\n",
        "            self.set_scheduler(lr_decay_factor)\n",
        "\n",
        "        done = False\n",
        "\n",
        "        for epoch in range(1, epochs + 1):\n",
        "            if self.log_level > 0:\n",
        "                print(' Epoch {:2d}'.format(epoch))\n",
        "\n",
        "            epoch_loss = 0.0\n",
        "            self.model.train()\n",
        "\n",
        "            # for each batch\n",
        "            for step, (sequence_lengths, inputs, labels) in enumerate(train_dataloader):\n",
        "                # we need to set the gradients to zero before starting to do backpropragation\n",
        "                # because PyTorch accumulates the gradients on subsequent backward passes\n",
        "                self.optimizer.zero_grad()\n",
        "\n",
        "                # We get the predicted logits from the model, with no need to perform any flattening\n",
        "                # as both predictions and labels refer to the whole sentence.\n",
        "                predictions = self.model((sequence_lengths, inputs))\n",
        "\n",
        "                # The CrossEntropyLoss expects the predictions to be logits, i.e. non-softmaxed scores across\n",
        "                # the number of classes, and the labels to be a simple tensor of labels.\n",
        "                # Specifically, predictions needs to be of shape [B, C], where B is the batch size and C is the number of\n",
        "                # classes, while labels must be of shape [B] where each element l_i should 0 <= l_i < C.\n",
        "                # See https://pytorch.org/docs/stable/generated/torch.nn.CrossEntropyLoss.html for more information.\n",
        "                sample_loss = self.loss_function(predictions, labels)\n",
        "                sample_loss.backward()\n",
        "                self.optimizer.step()\n",
        "\n",
        "                epoch_loss += sample_loss.cpu().tolist()\n",
        "\n",
        "                if self.log_level > 1 and (step % self.log_steps) == (self.log_steps - 1):\n",
        "                    print('\\t[E: {:2d} @ step {}] current avg loss = {:0.4f}'.format(epoch, step, epoch_loss / (step + 1)))\n",
        "\n",
        "            avg_epoch_loss = epoch_loss / len(train_dataloader)\n",
        "\n",
        "            if self.log_level > 0:\n",
        "                print('\\t[E: {:2d}] train loss = {:0.4f}'.format(epoch, avg_epoch_loss))\n",
        "\n",
        "            valid_loss, valid_acc = self.evaluate(valid_dataloader)\n",
        "\n",
        "            losses[\"train_losses\"].append(avg_epoch_loss)\n",
        "            losses[\"valid_losses\"].append(valid_loss)\n",
        "            losses[\"valid_acc\"].append(valid_acc)\n",
        "\n",
        "            if self.log_level > 0:\n",
        "                print('  [E: {:2d}] valid loss = {:0.4f}, valid acc = {:0.4f}'.format(epoch, valid_loss, valid_acc))\n",
        "\n",
        "            if valid_loss < 0.485 and done == False:\n",
        "                done = True\n",
        "                for param_group in self.optimizer.param_groups:\n",
        "                    self.scheduler.step()\n",
        "                if self.log_level > 0:\n",
        "                    print('Reducing LR')\n",
        "\n",
        "            # *********** if the val loss is decreasing for patience-times -> early stop *********** #\n",
        "            if valid_loss > prev_valid_loss:\n",
        "                consecutive_increases += 1\n",
        "                if self.log_level > 0:\n",
        "                  print('   Consecutive increases: ' + str(consecutive_increases))\n",
        "            else:\n",
        "                consecutive_increases = 0\n",
        "\n",
        "            if consecutive_increases >= patience:\n",
        "                if self.log_level > 0:\n",
        "                    print('early stopping')\n",
        "                break\n",
        "\n",
        "            if consecutive_increases == 0:\n",
        "                prev_valid_loss = valid_loss\n",
        "            # *********** #\n",
        "\n",
        "        if self.log_level > 0:\n",
        "            print('... Done!')\n",
        "\n",
        "        return losses\n",
        "\n",
        "\n",
        "    def _compute_acc(self, logits: torch.Tensor, labels: torch.Tensor) -> float:\n",
        "        # logits [B, 2] are the logits outputted by the BiLSTM model's forward()\n",
        "        # We take the argmax along the second dimension (dim=1), so we get a tensor of shape [B]\n",
        "        # where each element is 0 if the 0-class had higher logit, 1 otherwise.\n",
        "        predictions = torch.argmax(logits, dim=1)\n",
        "        # We can then directly compare each prediction with the labels, as they are both tensors with shape [B].\n",
        "        # The average of the boolean equality checks between the two is the accuracy of these predictions.\n",
        "        # For example, if:\n",
        "        #   predictions = [1, 0, 0, 1, 1]\n",
        "        #   labels = [1, 0, 1, 1, 1]\n",
        "        # The comparison is:\n",
        "        #   (predictions == labels) => [1, 1, 0, 1, 1]\n",
        "        # which averaged gives an accuracy of 4/5, i.e. 0.80.\n",
        "        return torch.mean((predictions == labels).float()).tolist() # type: ignore\n",
        "\n",
        "    def evaluate(self, valid_dataloader: DataLoader) -> tuple[float, float]:\n",
        "        \"\"\"\n",
        "        Args:\n",
        "            valid_dataloader: the DataLoader to use to evaluate the model.\n",
        "\n",
        "        Returns:\n",
        "            avg_valid_loss: the average validation loss over valid_dataloader.\n",
        "        \"\"\"\n",
        "        valid_loss = 0.0\n",
        "        valid_acc = 0.0\n",
        "        # When running in inference mode, it is required to have model.eval() AND .no_grad()\n",
        "        # Among other things, these set dropout to 0 and turn off gradient computation.\n",
        "        self.model.eval()\n",
        "        with torch.no_grad():\n",
        "            for batch in valid_dataloader:\n",
        "                sequence_lengths, inputs, labels = batch\n",
        "\n",
        "                logits = self.model((sequence_lengths, inputs))\n",
        "\n",
        "                # Same considerations as the training step apply here\n",
        "                sample_loss = self.loss_function(logits, labels)\n",
        "                valid_loss += sample_loss.tolist()\n",
        "\n",
        "                sample_acc = self._compute_acc(logits, labels)\n",
        "                valid_acc += sample_acc\n",
        "\n",
        "        return valid_loss / len(valid_dataloader), valid_acc / len(valid_dataloader),\n",
        "\n",
        "    def predict(self, batch: tuple[torch.Tensor, torch.Tensor]) -> tuple[torch.Tensor, torch.Tensor]:\n",
        "        \"\"\"\n",
        "        Args:\n",
        "            x: a tensor of indices\n",
        "        Returns:\n",
        "            A tuple composed of:\n",
        "            - the logits of each class, 0 and 1\n",
        "            - the prediction for each sample in the batch\n",
        "              0 if the sentiment of the sentence is negative, 1 if it is positive.\n",
        "        \"\"\"\n",
        "        self.model.eval()\n",
        "        with torch.no_grad():\n",
        "            sequence_lengths, inputs = batch\n",
        "            logits = self.model(sequence_lengths, inputs) # [B, 2]\n",
        "            predictions = torch.argmax(logits, -1) # [B, 1] computed on the last dimension of the logits tensor\n",
        "            return logits, predictions"
      ],
      "metadata": {
        "id": "Zy1m59Z3U7tS"
      },
      "execution_count": null,
      "outputs": []
    },
    {
      "cell_type": "markdown",
      "source": [
        "## Training"
      ],
      "metadata": {
        "id": "ecBM6lYuxLw8"
      }
    },
    {
      "cell_type": "code",
      "source": [
        "pad_token, unk_token = \"<pad>\", \"<unk>\"\n",
        "device = torch.device(\"cpu\")\n",
        "if torch.cuda.is_available():\n",
        "    device = torch.device(\"cuda\")"
      ],
      "metadata": {
        "id": "XaxtKKmoh3p4"
      },
      "execution_count": null,
      "outputs": []
    },
    {
      "cell_type": "code",
      "source": [
        "torch.manual_seed(seed)\n",
        "torch.cuda.manual_seed_all(seed)\n",
        "random.seed(seed)\n",
        "\n",
        "train_dataset = SST2Dataset(train_path, device=device)\n",
        "validation_dataset = SST2Dataset(validation_path, device=device)\n",
        "test_tweets_dataset = SST2Dataset(test_tweets_path, device=device)\n",
        "test_news_dataset = SST2Dataset(test_news_path, device=device)\n",
        "\n",
        "vocabulary = train_dataset.get_vocabulary(pad_token=pad_token, unk_token=unk_token)\n",
        "padding_id = vocabulary([pad_token])[0]\n",
        "\n",
        "train_dataset.set_padding_id(padding_id)\n",
        "validation_dataset.set_padding_id(padding_id)\n",
        "test_tweets_dataset.set_padding_id(padding_id)\n",
        "test_news_dataset.set_padding_id(padding_id)\n",
        "\n",
        "train_dataset.index(vocabulary)\n",
        "validation_dataset.index(vocabulary)\n",
        "test_tweets_dataset.index(vocabulary)\n",
        "test_news_dataset.index(vocabulary)\n",
        "\n",
        "print(f\"Training len: {len(train_dataset)}\")\n",
        "print(f\"Validation len: {len(validation_dataset)}\")\n",
        "print(f\"Test tweets len: {len(test_tweets_dataset)}\")\n",
        "print(f\"Test news len: {len(test_news_dataset)}\")"
      ],
      "metadata": {
        "colab": {
          "base_uri": "https://localhost:8080/"
        },
        "id": "q131m0izb_JO",
        "outputId": "f5b7bc5c-08ee-4e40-e32e-237536ec60e1"
      },
      "execution_count": null,
      "outputs": [
        {
          "output_type": "stream",
          "name": "stdout",
          "text": [
            "Training len: 5472\n",
            "Validation len: 1367\n",
            "Test tweets len: 1263\n",
            "Test news len: 500\n"
          ]
        }
      ]
    },
    {
      "cell_type": "code",
      "source": [
        "torch.manual_seed(seed)\n",
        "torch.cuda.manual_seed_all(seed)\n",
        "random.seed(seed)\n",
        "\n",
        "missing_file = \"missing_words.txt\"\n",
        "founded_file = \"founded_words.txt\"\n",
        "\n",
        "with open(missing_file, \"w\") as miss:\n",
        "  with open(founded_file, \"w\") as find:\n",
        "    pretrained_embeddings = torch.randn(len(vocabulary), 300)\n",
        "    initialised = 0\n",
        "    for i, w in enumerate(vocabulary.get_itos()):\n",
        "        word_low = w.lower()\n",
        "        if w in embedded_words:\n",
        "            initialised += 1\n",
        "            pretrained_embeddings[i] = torch.from_numpy(model.get_word_vector(w)).float()\n",
        "            find.write(w + \"\\n\")\n",
        "        elif word_low in embedded_words:\n",
        "            initialised += 1\n",
        "            pretrained_embeddings[i] = torch.from_numpy(model.get_word_vector(word_low)).float()\n",
        "            find.write(w + \" -> \" + word_low + \"\\n\")\n",
        "        else:\n",
        "            miss.write(w + \"\\n\")\n",
        "\n",
        "pretrained_embeddings[vocabulary[\"<pad>\"]] = torch.zeros(300)\n",
        "print(\"initialised embeddings {}\".format(initialised))\n",
        "print(\"random initialised embeddings {} \".format(len(vocabulary) - initialised))"
      ],
      "metadata": {
        "id": "W3sKjDLnMcyj"
      },
      "execution_count": null,
      "outputs": []
    },
    {
      "cell_type": "code",
      "source": [
        "torch.manual_seed(seed)\n",
        "torch.cuda.manual_seed_all(seed)\n",
        "random.seed(seed)\n",
        "\n",
        "results = {}\n",
        "custom_epochs= 60\n",
        "custom_hidden_dim = 300\n",
        "custom_patience = 3\n",
        "custom_batch_size = 32\n",
        "custom_bilstm_layers = 3\n",
        "custom_bilstm_dropout = 0.2\n",
        "custom_lr = 5e-5\n",
        "\n",
        "training_dataloader = DataLoader(train_dataset, batch_size=custom_batch_size, shuffle=True, collate_fn=train_dataset._collate_fn)\n",
        "validation_dataloader = DataLoader(validation_dataset, batch_size=custom_batch_size, shuffle=False, collate_fn=validation_dataset._collate_fn)\n",
        "test_news_dataloader = DataLoader(test_news_dataset, batch_size=custom_batch_size, shuffle=False, collate_fn=test_news_dataset._collate_fn)\n",
        "test_tweets_dataloader = DataLoader(test_tweets_dataset, batch_size=custom_batch_size, shuffle=False, collate_fn=test_tweets_dataset._collate_fn)\n",
        "\n",
        "while(True):\n",
        "\n",
        "  sentiment_tagger = BiLSTMModel(\n",
        "      vocabulary_length=len(vocabulary),\n",
        "      hidden_dim=custom_hidden_dim,\n",
        "      bilstm_layers=custom_bilstm_layers,\n",
        "      bilstm_dropout=custom_bilstm_dropout,\n",
        "      num_classes=2,\n",
        "      padding_id=padding_id,\n",
        "      device=device,\n",
        "      pre_embeddings=pretrained_embeddings\n",
        "  )\n",
        "\n",
        "  trainer = Trainer(\n",
        "      model=sentiment_tagger,\n",
        "      optimizer=torch.optim.Adam(sentiment_tagger.parameters(), lr=custom_lr),\n",
        "      log_steps=100,\n",
        "      log_level=1\n",
        "  )\n",
        "\n",
        "  losses = trainer.train(training_dataloader, validation_dataloader, epochs=custom_epochs, patience=custom_patience)\n",
        "  test_news_loss, test_news_acc = trainer.evaluate(test_news_dataloader)\n",
        "  test_tweets_loss, test_tweets_acc = trainer.evaluate(test_tweets_dataloader)\n",
        "  params = (custom_batch_size, custom_hidden_dim, custom_bilstm_layers, custom_bilstm_dropout, custom_lr)\n",
        "  results[params] = {\n",
        "      'train_losses': losses['train_losses'],\n",
        "      'valid_losses': losses['valid_losses'],\n",
        "      'valid_acc': losses['valid_acc'],\n",
        "      'test_news_loss': test_news_loss,\n",
        "      'test_news_acc': test_news_acc,\n",
        "      'test_tweets_loss': test_tweets_loss,\n",
        "      'test_tweets_acc': test_tweets_acc\n",
        "  }\n",
        "\n",
        "  print(params)\n",
        "  print(\"valid_acc: \" + str(losses['valid_acc'][len(losses['valid_acc']) - 1]))\n",
        "  print(\"loss: \" + str(losses['valid_losses'][len(losses['valid_losses']) - 1]))\n",
        "  print(\"test_news_acc: \" + str(test_news_acc))\n",
        "  print(\"test_tweets_acc: \" + str(test_tweets_acc))\n",
        "\n",
        "  print()\n",
        "\n",
        "  check = losses['valid_losses'][len(losses['valid_losses']) - 1]\n",
        "  if check < 0.48:\n",
        "    break"
      ],
      "metadata": {
        "id": "wGs1zCkuhvc_",
        "colab": {
          "base_uri": "https://localhost:8080/"
        },
        "outputId": "2508ae09-495a-4ecf-beee-179a5dcb3f12"
      },
      "execution_count": null,
      "outputs": [
        {
          "metadata": {
            "tags": null
          },
          "name": "stdout",
          "output_type": "stream",
          "text": [
            "initializing embeddings from pretrained\n",
            "Training ...\n",
            " Epoch  1\n"
          ]
        }
      ]
    },
    {
      "cell_type": "code",
      "source": [
        "train_losses = results[params]['train_losses']\n",
        "valid_losses = results[params]['valid_losses']\n",
        "valid_acc = results[params]['valid_acc']\n",
        "\n",
        "plt.figure(figsize=(10, 5))\n",
        "plt.plot(train_losses, label='Training Loss')\n",
        "plt.plot(valid_losses, label='Validation Loss')\n",
        "plt.xlabel('Epoch')\n",
        "plt.ylabel('Loss')\n",
        "plt.title('Training and Validation Loss')\n",
        "plt.legend()\n",
        "plt.show()"
      ],
      "metadata": {
        "id": "ZMqazglY88iL"
      },
      "execution_count": null,
      "outputs": []
    },
    {
      "cell_type": "code",
      "source": [
        "plt.figure(figsize=(6, 4))\n",
        "plt.plot(valid_acc, label='Validation Accuracy')\n",
        "plt.xlabel('Epoch')\n",
        "plt.ylabel('Accuracy')\n",
        "plt.title('Validation Accuracy')\n",
        "plt.legend()\n",
        "plt.show()"
      ],
      "metadata": {
        "id": "OeRi_Y8R9mG8"
      },
      "execution_count": null,
      "outputs": []
    }
  ]
}